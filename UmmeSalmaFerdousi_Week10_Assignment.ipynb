{
 "cells": [
  {
   "cell_type": "code",
   "execution_count": 1,
   "metadata": {},
   "outputs": [],
   "source": [
    "import data "
   ]
  },
  {
   "cell_type": "markdown",
   "metadata": {},
   "source": [
    "# Task 01"
   ]
  },
  {
   "cell_type": "code",
   "execution_count": 2,
   "metadata": {},
   "outputs": [],
   "source": [
    "my_dict = data.BANDS"
   ]
  },
  {
   "cell_type": "code",
   "execution_count": 3,
   "metadata": {},
   "outputs": [],
   "source": [
    "NIGEL = my_dict['Spinal Tap']['Nigel Tufnel']"
   ]
  },
  {
   "cell_type": "code",
   "execution_count": 4,
   "metadata": {},
   "outputs": [
    {
     "data": {
      "text/plain": [
       "['guitar',\n",
       " 'vocals',\n",
       " 'bass',\n",
       " 'violin',\n",
       " 'harmonica',\n",
       " 'clarinet',\n",
       " 'keyboards',\n",
       " 'piano']"
      ]
     },
     "execution_count": 4,
     "metadata": {},
     "output_type": "execute_result"
    }
   ],
   "source": [
    "NIGEL"
   ]
  },
  {
   "cell_type": "code",
   "execution_count": 5,
   "metadata": {},
   "outputs": [],
   "source": [
    "BAND_NAMES = list(data.BANDS.keys())"
   ]
  },
  {
   "cell_type": "code",
   "execution_count": 6,
   "metadata": {},
   "outputs": [
    {
     "data": {
      "text/plain": [
       "['Spinal Tap',\n",
       " 'The Beatles',\n",
       " 'The Who',\n",
       " 'Van Halen',\n",
       " 'Fleetwood Mac',\n",
       " 'Queen',\n",
       " 'The Rolling Stones']"
      ]
     },
     "execution_count": 6,
     "metadata": {},
     "output_type": "execute_result"
    }
   ],
   "source": [
    "BAND_NAMES"
   ]
  },
  {
   "cell_type": "markdown",
   "metadata": {},
   "source": [
    "# Task 02"
   ]
  },
  {
   "cell_type": "code",
   "execution_count": 7,
   "metadata": {},
   "outputs": [],
   "source": [
    "CORRECTED = data.BANDS.copy()"
   ]
  },
  {
   "cell_type": "code",
   "execution_count": 8,
   "metadata": {},
   "outputs": [
    {
     "data": {
      "text/plain": [
       "dict_keys(['Spinal Tap', 'The Beatles', 'The Who', 'Van Halen', 'Fleetwood Mac', 'Queen', 'The Rolling Stones'])"
      ]
     },
     "execution_count": 8,
     "metadata": {},
     "output_type": "execute_result"
    }
   ],
   "source": [
    "CORRECTED.keys()"
   ]
  },
  {
   "cell_type": "code",
   "execution_count": 9,
   "metadata": {},
   "outputs": [],
   "source": [
    "CORRECTED['Dylan'] = {'Bob Dylan': ['vocals', 'guitar', 'harmonica']}"
   ]
  },
  {
   "cell_type": "code",
   "execution_count": 10,
   "metadata": {},
   "outputs": [
    {
     "data": {
      "text/plain": [
       "dict_keys(['Spinal Tap', 'The Beatles', 'The Who', 'Van Halen', 'Fleetwood Mac', 'Queen', 'The Rolling Stones', 'Dylan'])"
      ]
     },
     "execution_count": 10,
     "metadata": {},
     "output_type": "execute_result"
    }
   ],
   "source": [
    "CORRECTED.keys()"
   ]
  },
  {
   "cell_type": "code",
   "execution_count": 11,
   "metadata": {},
   "outputs": [
    {
     "data": {
      "text/plain": [
       "{'Eddie Van Halen': ['guitar'],\n",
       " 'David Lee Roth': ['vocals'],\n",
       " 'Alex Van Halen': ['drums'],\n",
       " 'Michael Anthony': ['bass']}"
      ]
     },
     "execution_count": 11,
     "metadata": {},
     "output_type": "execute_result"
    }
   ],
   "source": [
    "CORRECTED['Van Halen']"
   ]
  },
  {
   "cell_type": "code",
   "execution_count": 12,
   "metadata": {},
   "outputs": [],
   "source": [
    "del CORRECTED['Van Halen']['David Lee Roth']"
   ]
  },
  {
   "cell_type": "code",
   "execution_count": 13,
   "metadata": {},
   "outputs": [
    {
     "data": {
      "text/plain": [
       "{'Eddie Van Halen': ['guitar'],\n",
       " 'Alex Van Halen': ['drums'],\n",
       " 'Michael Anthony': ['bass']}"
      ]
     },
     "execution_count": 13,
     "metadata": {},
     "output_type": "execute_result"
    }
   ],
   "source": [
    "CORRECTED['Van Halen']"
   ]
  },
  {
   "cell_type": "code",
   "execution_count": 14,
   "metadata": {},
   "outputs": [],
   "source": [
    "CORRECTED['Van Halen']['Sammy Hagar'] = ['vocals']"
   ]
  },
  {
   "cell_type": "code",
   "execution_count": 15,
   "metadata": {},
   "outputs": [
    {
     "data": {
      "text/plain": [
       "dict_keys(['Eddie Van Halen', 'Alex Van Halen', 'Michael Anthony', 'Sammy Hagar'])"
      ]
     },
     "execution_count": 15,
     "metadata": {},
     "output_type": "execute_result"
    }
   ],
   "source": [
    "CORRECTED['Van Halen'].keys()"
   ]
  },
  {
   "cell_type": "markdown",
   "metadata": {},
   "source": [
    "# Task 03"
   ]
  },
  {
   "cell_type": "code",
   "execution_count": 16,
   "metadata": {},
   "outputs": [
    {
     "data": {
      "text/plain": [
       "dict_keys(['Spinal Tap', 'The Beatles', 'The Who', 'Van Halen', 'Fleetwood Mac', 'Queen', 'The Rolling Stones'])"
      ]
     },
     "execution_count": 16,
     "metadata": {},
     "output_type": "execute_result"
    }
   ],
   "source": [
    "data.BANDS.keys()"
   ]
  },
  {
   "cell_type": "code",
   "execution_count": 17,
   "metadata": {},
   "outputs": [],
   "source": [
    "data.BANDS['Buckingham Nicks'] = { 'Lindsey Buckingham': ['guitar', 'vocals'],\n",
    "                                   'Stevie Nicks': ['vocals', 'tambourine']}"
   ]
  },
  {
   "cell_type": "code",
   "execution_count": 18,
   "metadata": {},
   "outputs": [
    {
     "data": {
      "text/plain": [
       "dict_keys(['Spinal Tap', 'The Beatles', 'The Who', 'Van Halen', 'Fleetwood Mac', 'Queen', 'The Rolling Stones', 'Buckingham Nicks'])"
      ]
     },
     "execution_count": 18,
     "metadata": {},
     "output_type": "execute_result"
    }
   ],
   "source": [
    "data.BANDS.keys()"
   ]
  },
  {
   "cell_type": "code",
   "execution_count": 19,
   "metadata": {},
   "outputs": [],
   "source": [
    "data.BANDS['Fleetwood Mac'].update(data.BANDS['Buckingham Nicks'])"
   ]
  },
  {
   "cell_type": "code",
   "execution_count": 20,
   "metadata": {},
   "outputs": [
    {
     "data": {
      "text/plain": [
       "{'Mick Fleetwood': ['drums'],\n",
       " 'John McVie': ['bass'],\n",
       " 'Christine McVie': ['vocals', 'piano', 'keyboards'],\n",
       " 'Lindsey Buckingham': ['guitar', 'vocals'],\n",
       " 'Stevie Nicks': ['vocals', 'tambourine']}"
      ]
     },
     "execution_count": 20,
     "metadata": {},
     "output_type": "execute_result"
    }
   ],
   "source": [
    "data.BANDS['Fleetwood Mac']"
   ]
  },
  {
   "cell_type": "markdown",
   "metadata": {},
   "source": [
    "# Task 04"
   ]
  },
  {
   "cell_type": "code",
   "execution_count": 21,
   "metadata": {},
   "outputs": [],
   "source": [
    "data.SUPERHEROES['Logan']['alias'] = 'Wolverine'"
   ]
  },
  {
   "cell_type": "code",
   "execution_count": 22,
   "metadata": {},
   "outputs": [
    {
     "data": {
      "text/plain": [
       "{'Kitty Pryde': {'alias': 'Shadowcat', 'pet': 'Lockheed'},\n",
       " 'Bruce Wayne': {'alias': 'Batman', 'pet': 'Ace'},\n",
       " 'Clark Kent': {'alias': 'Superman', 'pet': 'Krypto'},\n",
       " 'Samuel Wilson': {'alias': 'Falcon', 'pet': 'Redwing'},\n",
       " 'Logan': {'alias': 'Wolverine'}}"
      ]
     },
     "execution_count": 22,
     "metadata": {},
     "output_type": "execute_result"
    }
   ],
   "source": [
    "data.SUPERHEROES"
   ]
  },
  {
   "cell_type": "markdown",
   "metadata": {},
   "source": [
    "# Task 05"
   ]
  },
  {
   "cell_type": "code",
   "execution_count": 23,
   "metadata": {},
   "outputs": [],
   "source": [
    "def iter_dict_funky_sum(DATA):\n",
    "    total = 0\n",
    "    for key,value in DATA.items():\n",
    "        total = total + (value - key)\n",
    "    return total"
   ]
  },
  {
   "cell_type": "code",
   "execution_count": 24,
   "metadata": {},
   "outputs": [
    {
     "name": "stdout",
     "output_type": "stream",
     "text": [
      "140166242\n"
     ]
    }
   ],
   "source": [
    "DATA = {2: 7493945,\n",
    "    76: 4654320,\n",
    "    3: 4091979,\n",
    "    90: 1824881,\n",
    "    82: 714422,\n",
    "    45: 1137701,\n",
    "    10: 374362,\n",
    "    0: 326226,\n",
    "    -15: 417203,\n",
    "    -56: 333525,\n",
    "    67: 323451,\n",
    "    99: 321696,\n",
    "    21: 336753,\n",
    "    -100: 361237,\n",
    "    55: 1209714,\n",
    "    5150: 1771800,\n",
    "    42: 4714011,\n",
    "    888: 14817667,\n",
    "    3500: 13760234,\n",
    "    712: 10903322,\n",
    "    7: 10443792,\n",
    "    842: 11716264,\n",
    "    18584: 10559923,\n",
    "    666: 9275602,\n",
    "    70: 11901200,\n",
    "    153: 12074784,\n",
    "    8: 4337229}\n",
    "\n",
    "print(iter_dict_funky_sum(DATA))"
   ]
  },
  {
   "cell_type": "code",
   "execution_count": null,
   "metadata": {},
   "outputs": [],
   "source": []
  }
 ],
 "metadata": {
  "kernelspec": {
   "display_name": "Python 3",
   "language": "python",
   "name": "python3"
  },
  "language_info": {
   "codemirror_mode": {
    "name": "ipython",
    "version": 3
   },
   "file_extension": ".py",
   "mimetype": "text/x-python",
   "name": "python",
   "nbconvert_exporter": "python",
   "pygments_lexer": "ipython3",
   "version": "3.7.1"
  }
 },
 "nbformat": 4,
 "nbformat_minor": 2
}
