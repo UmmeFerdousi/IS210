{
 "cells": [
  {
   "cell_type": "markdown",
   "metadata": {},
   "source": [
    "# Task1"
   ]
  },
  {
   "cell_type": "code",
   "execution_count": 1,
   "metadata": {},
   "outputs": [
    {
     "name": "stdout",
     "output_type": "stream",
     "text": [
      "quoth\n"
     ]
    }
   ],
   "source": [
    "RAVEN = 'quoth'\n",
    "print(RAVEN)"
   ]
  },
  {
   "cell_type": "code",
   "execution_count": 2,
   "metadata": {},
   "outputs": [
    {
     "name": "stdout",
     "output_type": "stream",
     "text": [
      "Nevermore!\n"
     ]
    }
   ],
   "source": [
    "RAVEN='Nevermore!'\n",
    "print(RAVEN)"
   ]
  },
  {
   "cell_type": "markdown",
   "metadata": {},
   "source": [
    "# Task 2"
   ]
  },
  {
   "cell_type": "code",
   "execution_count": 18,
   "metadata": {},
   "outputs": [
    {
     "name": "stdout",
     "output_type": "stream",
     "text": [
      "52\n"
     ]
    }
   ],
   "source": [
    "WEEKS= round(((19%10+100)+pow(2,8))/7)\n",
    "print(WEEKS)"
   ]
  },
  {
   "cell_type": "markdown",
   "metadata": {},
   "source": [
    "# Task 3"
   ]
  },
  {
   "cell_type": "code",
   "execution_count": 22,
   "metadata": {},
   "outputs": [
    {
     "name": "stdout",
     "output_type": "stream",
     "text": [
      "Danger \n"
     ]
    }
   ],
   "source": [
    "WILL_ROBINSON ='Danger Will Robinson!'\n",
    "OBJ=slice(0,7)\n",
    "KLAXON=WILL_ROBINSON[OBJ]\n",
    "print(KLAXON)\n"
   ]
  },
  {
   "cell_type": "markdown",
   "metadata": {},
   "source": [
    "# Task4"
   ]
  },
  {
   "cell_type": "code",
   "execution_count": 26,
   "metadata": {},
   "outputs": [
    {
     "name": "stdout",
     "output_type": "stream",
     "text": [
      "Danger Danger Danger Danger Danger \n"
     ]
    }
   ],
   "source": [
    "KLAXON *= 5\n",
    "print(KLAXON)"
   ]
  },
  {
   "cell_type": "markdown",
   "metadata": {},
   "source": [
    "# Task5"
   ]
  },
  {
   "cell_type": "code",
   "execution_count": 32,
   "metadata": {},
   "outputs": [
    {
     "name": "stdout",
     "output_type": "stream",
     "text": [
      "['Michaelangelo', 'Leonardo', 'Rafael', 'Donatello', 'Heroes in a half shell.']\n"
     ]
    }
   ],
   "source": [
    "TEENAGE_MUTANT_NINJAS = ('Michaelangelo. Leonardo. Rafael. Donatello. Heroes '\n",
    "                     'in a half shell.')\n",
    "TURTLE_POWER=(TEENAGE_MUTANT_NINJAS.split('. '))\n",
    "print(TURTLE_POWER)"
   ]
  },
  {
   "cell_type": "markdown",
   "metadata": {},
   "source": [
    "# Task6"
   ]
  },
  {
   "cell_type": "code",
   "execution_count": 46,
   "metadata": {},
   "outputs": [
    {
     "name": "stdout",
     "output_type": "stream",
     "text": [
      "A long-tailed cat in a room full of rockin' chairs.\n"
     ]
    }
   ],
   "source": [
    "NERVOUS_AS = \"\"\"\n",
    "//////////A long-tailed cat in a room full of rockin' chairs.,,,,,,,,,, \"\"\".strip()\n",
    "NERVOUS_AS =NERVOUS_AS.strip().lstrip('/').rstrip(',')\n",
    "print(NERVOUS_AS)\n"
   ]
  },
  {
   "cell_type": "markdown",
   "metadata": {},
   "source": [
    "# Task 7"
   ]
  },
  {
   "cell_type": "code",
   "execution_count": 52,
   "metadata": {},
   "outputs": [
    {
     "name": "stdout",
     "output_type": "stream",
     "text": [
      "Dr. Strangelove Or: How I Learned To Stop Worrying And Love The Bomb\n"
     ]
    }
   ],
   "source": [
    "MOVIE = 'dr. strangelove or: how i learned to stop worrying and love the bomb'\n",
    "ENTITLED=MOVIE.title()\n",
    "print(ENTITLED)\n"
   ]
  },
  {
   "cell_type": "markdown",
   "metadata": {},
   "source": [
    "# Task 8"
   ]
  },
  {
   "cell_type": "code",
   "execution_count": 67,
   "metadata": {},
   "outputs": [
    {
     "name": "stdout",
     "output_type": "stream",
     "text": [
      "True\n",
      "False\n",
      "None\n",
      "True\n"
     ]
    }
   ],
   "source": [
    "IS_TRUE=True\n",
    "print(IS_TRUE)\n",
    "\n",
    "IS_FALSE=False\n",
    "print(IS_FALSE)\n",
    "\n",
    "IS_NONE=None\n",
    "print(IS_NONE)\n",
    "\n",
    "INTEGER_EQUIV=IS_TRUE==1 and IS_FALSE==0\n",
    "print(INTEGER_EQUIV)"
   ]
  },
  {
   "cell_type": "code",
   "execution_count": null,
   "metadata": {},
   "outputs": [],
   "source": []
  }
 ],
 "metadata": {
  "kernelspec": {
   "display_name": "Python 3",
   "language": "python",
   "name": "python3"
  },
  "language_info": {
   "codemirror_mode": {
    "name": "ipython",
    "version": 3
   },
   "file_extension": ".py",
   "mimetype": "text/x-python",
   "name": "python",
   "nbconvert_exporter": "python",
   "pygments_lexer": "ipython3",
   "version": "3.7.1"
  }
 },
 "nbformat": 4,
 "nbformat_minor": 2
}
