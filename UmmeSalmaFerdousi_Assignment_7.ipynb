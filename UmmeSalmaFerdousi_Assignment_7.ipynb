{
 "cells": [
  {
   "cell_type": "markdown",
   "metadata": {},
   "source": [
    "# Task # 01"
   ]
  },
  {
   "cell_type": "code",
   "execution_count": 5,
   "metadata": {},
   "outputs": [
    {
     "name": "stdout",
     "output_type": "stream",
     "text": [
      "[0, 1, 1, 2, 3, 5, 8]\n"
     ]
    }
   ],
   "source": [
    "def fibonacci(maxint):\n",
    "    fibo_list=[]\n",
    "    lastnum, curnum = 0, 1\n",
    "    while lastnum < maxint:\t      # checking or looping till a not over maxint\n",
    "        fibo_list.append(lastnum)         #   append each new generated number ‘a’ into list\n",
    "        lastnum, curnum = curnum, lastnum+curnum\t\n",
    "    return fibo_list\n",
    "print(fibonacci(10))"
   ]
  },
  {
   "cell_type": "markdown",
   "metadata": {},
   "source": [
    "# Task # 02"
   ]
  },
  {
   "cell_type": "code",
   "execution_count": 10,
   "metadata": {},
   "outputs": [
    {
     "name": "stdout",
     "output_type": "stream",
     "text": [
      "(5, 3, 4.0)\n"
     ]
    }
   ],
   "source": [
    "def lexicographics(str = \"\"\"Don't stop believing,\n",
    "Hold on to that feeling.\"\"\"):\n",
    "    Max, Min, Count,Step = 0,0,0,0\n",
    "    result = []\n",
    "    for line in str.split('\\n'):\t\t# sentence divide by newline’\\n’\n",
    "        if Step==0:\t\t# Checking if this is first line and setting Max,Min as per first line\n",
    "            Max=Min=len(line.split())   \n",
    "        if len(line.split()) > Max :     #checking each line has Max words\n",
    "            Max = len(line.split())\n",
    "        if len(line.split()) < Min:\t#checking each line has Min words\n",
    "            Min = len(line.split())\n",
    "        Count+=len(line.split()) \t#counting each line words for calculate avg word\n",
    "        Step+=1\t\t# Counting each line to identify the line number\n",
    "        \n",
    "    result.append(Max)\n",
    "    result.append(Min)\n",
    "    result.append(Count/len(str.split( '\\n' ))) #calculate avg word\n",
    "    return tuple(result)\n",
    "print(lexicographics('''Don't stop believing,\n",
    "Hold on to that feeling.'''))\n"
   ]
  },
  {
   "cell_type": "code",
   "execution_count": null,
   "metadata": {},
   "outputs": [],
   "source": []
  }
 ],
 "metadata": {
  "kernelspec": {
   "display_name": "Python 3",
   "language": "python",
   "name": "python3"
  },
  "language_info": {
   "codemirror_mode": {
    "name": "ipython",
    "version": 3
   },
   "file_extension": ".py",
   "mimetype": "text/x-python",
   "name": "python",
   "nbconvert_exporter": "python",
   "pygments_lexer": "ipython3",
   "version": "3.7.1"
  }
 },
 "nbformat": 4,
 "nbformat_minor": 2
}
