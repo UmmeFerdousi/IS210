{
 "cells": [
  {
   "cell_type": "markdown",
   "metadata": {},
   "source": [
    "# Task01"
   ]
  },
  {
   "cell_type": "code",
   "execution_count": 6,
   "metadata": {},
   "outputs": [
    {
     "name": "stdout",
     "output_type": "stream",
     "text": [
      "(None, 'Hydrogen', 'Helium', 'Lithium', 'Beryllium', 'Boron', 'Carbon')\n",
      "['Parentheses', 'Exponents', 'Multiplication', 'Division', 'Addition', 'Subtraction']\n"
     ]
    }
   ],
   "source": [
    "ELEMENTS=(None, 'Hydrogen', 'Helium', 'Lithium', 'Beryllium', 'Boron', 'Carbon')\n",
    "OPERATIONS_ORDER=['Parentheses', 'Exponents', 'Multiplication', 'Division', 'Addition',\n",
    "'Subtraction']\n",
    "print(ELEMENTS)\n",
    "print(OPERATIONS_ORDER)"
   ]
  },
  {
   "cell_type": "markdown",
   "metadata": {},
   "source": [
    "# Task02"
   ]
  },
  {
   "cell_type": "code",
   "execution_count": 9,
   "metadata": {},
   "outputs": [
    {
     "name": "stdout",
     "output_type": "stream",
     "text": [
      "(28, 4.0)\n",
      "(11.07, 2.7675)\n"
     ]
    }
   ],
   "source": [
    "lists = [1, 2, 3, 4, 5, 6, 7 ]  \n",
    "tpl = (1,2,3.92,4.15)\n",
    "def process_data(lists):\n",
    "    Expected_Output=0\n",
    "    final=[]\n",
    "    for data in lists:\n",
    "        Expected_Output += data\n",
    "    final.append(Expected_Output)  # Expected Sum from that condition\n",
    "    final.append(Expected_Output/len(lists)) # Expected Average from this condition\n",
    "    return tuple(final)\n",
    "print(process_data(lists))\n",
    "print(process_data(tpl))\n"
   ]
  },
  {
   "cell_type": "markdown",
   "metadata": {},
   "source": [
    "# Task03"
   ]
  },
  {
   "cell_type": "code",
   "execution_count": 22,
   "metadata": {},
   "outputs": [
    {
     "name": "stdout",
     "output_type": "stream",
     "text": [
      "True\n",
      "[(3, 2, 1), 'cba']\n"
     ]
    }
   ],
   "source": [
    "to_flip = [(1,2,3),'abc']\n",
    "\n",
    "def flip_keys(to_flip):\n",
    "    counter = 0\n",
    "    for value in to_flip:   \n",
    "        to_flip[counter] = value[::-1] # reversed the order of the inner sequence and mutable.\n",
    "        counter+=1  #  \n",
    "    return to_flip\n",
    "\n",
    "NEW = flip_keys(to_flip) # retured the original list with its inner elements reversed\n",
    "to_flip is NEW\n",
    "print(to_flip is NEW)\n",
    "print(NEW)"
   ]
  },
  {
   "cell_type": "code",
   "execution_count": null,
   "metadata": {},
   "outputs": [],
   "source": []
  }
 ],
 "metadata": {
  "kernelspec": {
   "display_name": "Python 3",
   "language": "python",
   "name": "python3"
  },
  "language_info": {
   "codemirror_mode": {
    "name": "ipython",
    "version": 3
   },
   "file_extension": ".py",
   "mimetype": "text/x-python",
   "name": "python",
   "nbconvert_exporter": "python",
   "pygments_lexer": "ipython3",
   "version": "3.7.1"
  }
 },
 "nbformat": 4,
 "nbformat_minor": 2
}
