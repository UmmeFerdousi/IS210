{
 "cells": [
  {
   "cell_type": "markdown",
   "metadata": {},
   "source": [
    "# Task 01"
   ]
  },
  {
   "cell_type": "code",
   "execution_count": 1,
   "metadata": {},
   "outputs": [],
   "source": [
    "GRADES = {\n",
    "    'A':1.00,\n",
    "    'B':.90,\n",
    "    'C':.80,\n",
    "    'D':.70,\n",
    "    'F':.60\n",
    "}"
   ]
  },
  {
   "cell_type": "code",
   "execution_count": 2,
   "metadata": {},
   "outputs": [],
   "source": [
    "def get_score_summary(filename):\n",
    "    f_results = open(filename,'r')\n",
    "\n",
    "    data=f_results.read().split(\"\\n\")\n",
    "\n",
    "    filter_data = {}\n",
    "    for row in data[1: -1]:\n",
    "        r=row.split(',')\n",
    "        if r[10] != '' and r[10] != 'P':            \n",
    "            if r[0] in filter_data:\n",
    "                pass\n",
    "            else:\n",
    "                filter_data[r[0]]=[r[1],GRADES[r[10]]]\n",
    "        else:pass    \n",
    "\n",
    "    result_dict = {}\n",
    "\n",
    "    for row in filter_data.keys():\n",
    "        val = filter_data[row]\n",
    "        if val[0] in result_dict:\n",
    "            result_dict[val[0]] = (int(result_dict[val[0]][0]) + 1 , float(result_dict[val[0]][1])+ filter_data[row][1] )\n",
    "        else:\n",
    "            result_dict[val[0]] = (1,float(filter_data[row][1]))\n",
    "\n",
    "    #average the score by grade value\n",
    "    for key in result_dict.keys():\n",
    "        result_dict[key] = (result_dict[key][0], result_dict[key][1]/result_dict[key][0])     \n",
    "\n",
    "    \n",
    "    f_results.close()\n",
    "    \n",
    "    return result_dict"
   ]
  },
  {
   "cell_type": "code",
   "execution_count": 3,
   "metadata": {},
   "outputs": [
    {
     "data": {
      "text/plain": [
       "{'QUEENS': (414, 0.9719806763285018),\n",
       " 'MANHATTAN': (748, 0.9771390374331524),\n",
       " 'BROOKLYN': (417, 0.9745803357314147),\n",
       " 'BRONX': (156, 0.9762820512820517),\n",
       " 'STATEN ISLAND': (46, 0.9804347826086957)}"
      ]
     },
     "execution_count": 3,
     "metadata": {},
     "output_type": "execute_result"
    }
   ],
   "source": [
    "get_score_summary('inspection_results.csv')"
   ]
  },
  {
   "cell_type": "markdown",
   "metadata": {},
   "source": [
    "# Task 02\n"
   ]
  },
  {
   "cell_type": "code",
   "execution_count": 4,
   "metadata": {},
   "outputs": [],
   "source": [
    "import json"
   ]
  },
  {
   "cell_type": "code",
   "execution_count": 5,
   "metadata": {},
   "outputs": [],
   "source": [
    "def get_market_density(file):\n",
    "    d_file = open(file,'r')\n",
    "    \n",
    "    data = json.load(d_file)\n",
    "    d_file.close()\n",
    "    markets={}\n",
    "    for d in data['data']:\n",
    "        d_upper = d[8].strip().upper()\n",
    "        if d_upper in markets:\n",
    "            markets[d_upper] = markets[d_upper] + 1\n",
    "        else:\n",
    "            markets[d_upper] = 1\n",
    "\n",
    "    return markets"
   ]
  },
  {
   "cell_type": "code",
   "execution_count": 6,
   "metadata": {},
   "outputs": [
    {
     "data": {
      "text/plain": [
       "{'BRONX': 32,\n",
       " 'BROOKLYN': 48,\n",
       " 'MANHATTAN': 39,\n",
       " 'QUEENS': 16,\n",
       " 'STATEN ISLAND': 2}"
      ]
     },
     "execution_count": 6,
     "metadata": {},
     "output_type": "execute_result"
    }
   ],
   "source": [
    " get_market_density('green_markets.json')\n"
   ]
  },
  {
   "cell_type": "markdown",
   "metadata": {},
   "source": [
    "# Task 03\n"
   ]
  },
  {
   "cell_type": "code",
   "execution_count": 7,
   "metadata": {},
   "outputs": [],
   "source": [
    "def correlate_data(rest_file, market_file, final_output):\n",
    "    restaurant = get_score_summary(rest_file)\n",
    "    market = get_market_density(market_file)\n",
    "    \n",
    "    output={}\n",
    "    \n",
    "    for key in restaurant.keys():\n",
    "        output[key] = (restaurant[key][1], market[key]/ restaurant[key][0])\n",
    "        \n",
    "    final = open(final_output,\"w\")\n",
    "    json.dump(output, final)\n",
    "    \n",
    "    final.close()\n",
    "    \n",
    "    return output"
   ]
  },
  {
   "cell_type": "code",
   "execution_count": 542,
   "metadata": {},
   "outputs": [
    {
     "data": {
      "text/plain": [
       "{'QUEENS': (0.9719806763285018, 0.03864734299516908),\n",
       " 'MANHATTAN': (0.9771390374331524, 0.05213903743315508),\n",
       " 'BROOKLYN': (0.9745803357314147, 0.11510791366906475),\n",
       " 'BRONX': (0.9762820512820517, 0.20512820512820512),\n",
       " 'STATEN ISLAND': (0.9804347826086957, 0.043478260869565216)}"
      ]
     },
     "execution_count": 542,
     "metadata": {},
     "output_type": "execute_result"
    }
   ],
   "source": [
    "correlate_data('inspection_results.csv', 'green_markets.json','final_output.txt')"
   ]
  },
  {
   "cell_type": "code",
   "execution_count": null,
   "metadata": {},
   "outputs": [],
   "source": []
  }
 ],
 "metadata": {
  "kernelspec": {
   "display_name": "Python 3",
   "language": "python",
   "name": "python3"
  },
  "language_info": {
   "codemirror_mode": {
    "name": "ipython",
    "version": 3
   },
   "file_extension": ".py",
   "mimetype": "text/x-python",
   "name": "python",
   "nbconvert_exporter": "python",
   "pygments_lexer": "ipython3",
   "version": "3.7.1"
  }
 },
 "nbformat": 4,
 "nbformat_minor": 2
}
