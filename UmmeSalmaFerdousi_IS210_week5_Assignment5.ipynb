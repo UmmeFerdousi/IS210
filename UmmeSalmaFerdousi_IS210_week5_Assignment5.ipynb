{
 "cells": [
  {
   "cell_type": "markdown",
   "metadata": {},
   "source": [
    "# Task 01: Create a Package"
   ]
  },
  {
   "cell_type": "code",
   "execution_count": 1,
   "metadata": {},
   "outputs": [
    {
     "data": {
      "text/plain": [
       "['C:\\\\Users\\\\Mou',\n",
       " 'C:\\\\Users\\\\Mou\\\\AppData\\\\Local\\\\Programs\\\\ANACONDA\\\\python37.zip',\n",
       " 'C:\\\\Users\\\\Mou\\\\AppData\\\\Local\\\\Programs\\\\ANACONDA\\\\DLLs',\n",
       " 'C:\\\\Users\\\\Mou\\\\AppData\\\\Local\\\\Programs\\\\ANACONDA\\\\lib',\n",
       " 'C:\\\\Users\\\\Mou\\\\AppData\\\\Local\\\\Programs\\\\ANACONDA',\n",
       " '',\n",
       " 'C:\\\\Users\\\\Mou\\\\AppData\\\\Local\\\\Programs\\\\ANACONDA\\\\lib\\\\site-packages',\n",
       " 'C:\\\\Users\\\\Mou\\\\AppData\\\\Local\\\\Programs\\\\ANACONDA\\\\lib\\\\site-packages\\\\win32',\n",
       " 'C:\\\\Users\\\\Mou\\\\AppData\\\\Local\\\\Programs\\\\ANACONDA\\\\lib\\\\site-packages\\\\win32\\\\lib',\n",
       " 'C:\\\\Users\\\\Mou\\\\AppData\\\\Local\\\\Programs\\\\ANACONDA\\\\lib\\\\site-packages\\\\Pythonwin',\n",
       " 'C:\\\\Users\\\\Mou\\\\AppData\\\\Local\\\\Programs\\\\ANACONDA\\\\lib\\\\site-packages\\\\IPython\\\\extensions',\n",
       " 'C:\\\\Users\\\\Mou\\\\.ipython']"
      ]
     },
     "execution_count": 1,
     "metadata": {},
     "output_type": "execute_result"
    }
   ],
   "source": [
    "import sys\n",
    "sys.path"
   ]
  },
  {
   "cell_type": "code",
   "execution_count": 11,
   "metadata": {},
   "outputs": [],
   "source": [
    "sys.path.append(\"C:\\\\Users\\\\Mou\\\\Desktop\\\\School\\\\Spring19\\\\IS210\\\\Week5\")"
   ]
  },
  {
   "cell_type": "code",
   "execution_count": 12,
   "metadata": {},
   "outputs": [
    {
     "data": {
      "text/plain": [
       "['C:\\\\Users\\\\Mou',\n",
       " 'C:\\\\Users\\\\Mou\\\\AppData\\\\Local\\\\Programs\\\\ANACONDA\\\\python37.zip',\n",
       " 'C:\\\\Users\\\\Mou\\\\AppData\\\\Local\\\\Programs\\\\ANACONDA\\\\DLLs',\n",
       " 'C:\\\\Users\\\\Mou\\\\AppData\\\\Local\\\\Programs\\\\ANACONDA\\\\lib',\n",
       " 'C:\\\\Users\\\\Mou\\\\AppData\\\\Local\\\\Programs\\\\ANACONDA',\n",
       " '',\n",
       " 'C:\\\\Users\\\\Mou\\\\AppData\\\\Local\\\\Programs\\\\ANACONDA\\\\lib\\\\site-packages',\n",
       " 'C:\\\\Users\\\\Mou\\\\AppData\\\\Local\\\\Programs\\\\ANACONDA\\\\lib\\\\site-packages\\\\win32',\n",
       " 'C:\\\\Users\\\\Mou\\\\AppData\\\\Local\\\\Programs\\\\ANACONDA\\\\lib\\\\site-packages\\\\win32\\\\lib',\n",
       " 'C:\\\\Users\\\\Mou\\\\AppData\\\\Local\\\\Programs\\\\ANACONDA\\\\lib\\\\site-packages\\\\Pythonwin',\n",
       " 'C:\\\\Users\\\\Mou\\\\AppData\\\\Local\\\\Programs\\\\ANACONDA\\\\lib\\\\site-packages\\\\IPython\\\\extensions',\n",
       " 'C:\\\\Users\\\\Mou\\\\.ipython',\n",
       " '/home/mou/Desktop/School/Spring19/IS210/Week5',\n",
       " '/home/mou/Desktop/School/Spring19/IS210/Week5/task01',\n",
       " 'C:\\\\Users\\\\Mou\\\\Desktop\\\\School\\\\Spring19\\\\IS210\\\\Week5']"
      ]
     },
     "execution_count": 12,
     "metadata": {},
     "output_type": "execute_result"
    }
   ],
   "source": [
    "sys.path"
   ]
  },
  {
   "cell_type": "code",
   "execution_count": 16,
   "metadata": {},
   "outputs": [],
   "source": [
    "import task01.peanut"
   ]
  },
  {
   "cell_type": "code",
   "execution_count": 18,
   "metadata": {
    "scrolled": true
   },
   "outputs": [
    {
     "name": "stdout",
     "output_type": "stream",
     "text": [
      "I am Truthy\n",
      "I am Falsy\n"
     ]
    },
    {
     "data": {
      "text/plain": [
       "'I am Falsy'"
      ]
     },
     "execution_count": 18,
     "metadata": {},
     "output_type": "execute_result"
    }
   ],
   "source": [
    "import task01.peanut\n",
    "if task01.peanut.BUTTER: print ('I am Truthy')\n",
    "'I am Truthy'\n",
    "import task01.peanut\n",
    "if not task01.peanut.OIL: print ('I am Falsy')\n",
    "'I am Falsy'\n"
   ]
  },
  {
   "cell_type": "markdown",
   "metadata": {},
   "source": [
    "# Task 02: Import a Module Namespace"
   ]
  },
  {
   "cell_type": "code",
   "execution_count": 22,
   "metadata": {},
   "outputs": [],
   "source": [
    "import task01.task02\n",
    "\n",
    "\n"
   ]
  },
  {
   "cell_type": "code",
   "execution_count": 23,
   "metadata": {},
   "outputs": [
    {
     "name": "stdout",
     "output_type": "stream",
     "text": [
      "I am truthy, too!\n"
     ]
    }
   ],
   "source": [
    "if task01.task02.TIME: print('I am truthy, too!')"
   ]
  },
  {
   "cell_type": "markdown",
   "metadata": {},
   "source": [
    "# Task 03: Copy a Module Attribute"
   ]
  },
  {
   "cell_type": "code",
   "execution_count": 29,
   "metadata": {},
   "outputs": [
    {
     "data": {
      "text/plain": [
       "True"
      ]
     },
     "execution_count": 29,
     "metadata": {},
     "output_type": "execute_result"
    }
   ],
   "source": [
    "import task01.task03\n",
    "True if task01.task03.BUTTER else False"
   ]
  },
  {
   "cell_type": "code",
   "execution_count": 27,
   "metadata": {},
   "outputs": [
    {
     "data": {
      "text/plain": [
       "True"
      ]
     },
     "execution_count": 27,
     "metadata": {},
     "output_type": "execute_result"
    }
   ],
   "source": [
    "task01.task03.JELLY == task01.task03.BUTTER"
   ]
  },
  {
   "cell_type": "code",
   "execution_count": null,
   "metadata": {},
   "outputs": [],
   "source": []
  }
 ],
 "metadata": {
  "kernelspec": {
   "display_name": "Python 3",
   "language": "python",
   "name": "python3"
  },
  "language_info": {
   "codemirror_mode": {
    "name": "ipython",
    "version": 3
   },
   "file_extension": ".py",
   "mimetype": "text/x-python",
   "name": "python",
   "nbconvert_exporter": "python",
   "pygments_lexer": "ipython3",
   "version": "3.7.1"
  }
 },
 "nbformat": 4,
 "nbformat_minor": 2
}
