{
 "cells": [
  {
   "cell_type": "markdown",
   "metadata": {},
   "source": [
    "# Task 1"
   ]
  },
  {
   "cell_type": "code",
   "execution_count": 1,
   "metadata": {},
   "outputs": [
    {
     "name": "stdout",
     "output_type": "stream",
     "text": [
      "What is your name?Umme Salma Ferdousi\n",
      "Umme Salma Ferdousi\n"
     ]
    }
   ],
   "source": [
    "MY_ANSWER = input('What is your name?')\n",
    "print(MY_ANSWER)"
   ]
  },
  {
   "cell_type": "markdown",
   "metadata": {},
   "source": [
    "# Task 2"
   ]
  },
  {
   "cell_type": "code",
   "execution_count": 2,
   "metadata": {},
   "outputs": [
    {
     "name": "stdout",
     "output_type": "stream",
     "text": [
      "What is the answer to the life the universe and everything?42\n",
      "42\n"
     ]
    },
    {
     "data": {
      "text/plain": [
       "int"
      ]
     },
     "execution_count": 2,
     "metadata": {},
     "output_type": "execute_result"
    }
   ],
   "source": [
    "MY_INTEGER = int(input('What is the answer to the life the universe and everything?'))\n",
    "print(MY_INTEGER)\n",
    "type(MY_INTEGER)"
   ]
  },
  {
   "cell_type": "markdown",
   "metadata": {},
   "source": [
    "# Task 3"
   ]
  },
  {
   "cell_type": "code",
   "execution_count": 3,
   "metadata": {},
   "outputs": [
    {
     "name": "stdout",
     "output_type": "stream",
     "text": [
      "What is your blood pressure?120\n",
      "Your status is currently:Warning!\n"
     ]
    }
   ],
   "source": [
    "BP = input('What is your blood pressure?')\n",
    "BP_STATUS=''\n",
    "if int(BP) <= 89:\n",
    "    BP_STATUS = 'Low!'\n",
    "elif  119 >= int(BP) >= 90 :\n",
    "    BP_STATUS = 'Ideal!'\n",
    "elif  139 >= int(BP) >= 120 :\n",
    "    BP_STATUS = 'Warning!'\n",
    "elif  159 >= int(BP) >= 140 :\n",
    "    BP_STATUS = 'High!'\n",
    "elif int(BP) >= 160 :\n",
    "    BP_STATUS = 'Emergency!'\n",
    "print(\"Your status is currently:{}\".format(BP_STATUS))    "
   ]
  },
  {
   "cell_type": "code",
   "execution_count": null,
   "metadata": {},
   "outputs": [],
   "source": []
  }
 ],
 "metadata": {
  "kernelspec": {
   "display_name": "Python 3",
   "language": "python",
   "name": "python3"
  },
  "language_info": {
   "codemirror_mode": {
    "name": "ipython",
    "version": 3
   },
   "file_extension": ".py",
   "mimetype": "text/x-python",
   "name": "python",
   "nbconvert_exporter": "python",
   "pygments_lexer": "ipython3",
   "version": "3.7.1"
  }
 },
 "nbformat": 4,
 "nbformat_minor": 2
}
