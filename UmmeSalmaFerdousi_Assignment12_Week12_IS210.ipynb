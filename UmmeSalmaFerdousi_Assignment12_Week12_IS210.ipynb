{
 "cells": [
  {
   "cell_type": "markdown",
   "metadata": {},
   "source": [
    "# Task 01"
   ]
  },
  {
   "cell_type": "code",
   "execution_count": 1,
   "metadata": {},
   "outputs": [
    {
     "name": "stdout",
     "output_type": "stream",
     "text": [
      "Warning: Your index/key doesn't exist.\n",
      "[1, 2]\n",
      "Warning: Your index/key doesn't exist.\n",
      "{}\n"
     ]
    }
   ],
   "source": [
    "def simple_lookup(var1, var2):\n",
    "    try:\n",
    "        return var1[var2]\n",
    "    except (IndexError, KeyError):\n",
    "        print(\"Warning: Your index/key doesn't exist.\")\n",
    "        print(var1)\n",
    "simple_lookup([1,2], 4)        \n",
    "simple_lookup({},\"banana\")\n"
   ]
  },
  {
   "cell_type": "markdown",
   "metadata": {},
   "source": [
    "#  Task 02"
   ]
  },
  {
   "cell_type": "code",
   "execution_count": 1,
   "metadata": {},
   "outputs": [],
   "source": [
    "import datetime"
   ]
  },
  {
   "cell_type": "code",
   "execution_count": 2,
   "metadata": {},
   "outputs": [],
   "source": [
    "class InvalidAgeError(Exception):\n",
    "    def __init__(self, message):\n",
    "        self.message = message\n",
    "      "
   ]
  },
  {
   "cell_type": "code",
   "execution_count": 3,
   "metadata": {},
   "outputs": [],
   "source": [
    "def get_age(birthyear):\n",
    "    age = datetime.datetime.now().year - birthyear\n",
    "    try:\n",
    "        if age < 0:\n",
    "            raise InvalidAgeError(\"invalid age value, error\")\n",
    "        else : \n",
    "            return age\n",
    "    except InvalidAgeError as  e:\n",
    "        print (e)"
   ]
  },
  {
   "cell_type": "code",
   "execution_count": 4,
   "metadata": {},
   "outputs": [
    {
     "name": "stdout",
     "output_type": "stream",
     "text": [
      "invalid age value, error\n"
     ]
    }
   ],
   "source": [
    "get_age(2099)"
   ]
  },
  {
   "cell_type": "code",
   "execution_count": null,
   "metadata": {},
   "outputs": [],
   "source": []
  }
 ],
 "metadata": {
  "kernelspec": {
   "display_name": "Python 3",
   "language": "python",
   "name": "python3"
  },
  "language_info": {
   "codemirror_mode": {
    "name": "ipython",
    "version": 3
   },
   "file_extension": ".py",
   "mimetype": "text/x-python",
   "name": "python",
   "nbconvert_exporter": "python",
   "pygments_lexer": "ipython3",
   "version": "3.7.1"
  }
 },
 "nbformat": 4,
 "nbformat_minor": 2
}
